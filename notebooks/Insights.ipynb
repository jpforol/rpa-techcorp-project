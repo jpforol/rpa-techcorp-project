{
 "cells": [
  {
   "cell_type": "markdown",
   "metadata": {},
   "source": [
    "\n",
    "\n",
    "```markdown\n",
    "# Generating Insights\n",
    "\n",
    "In this notebook, we will use the data to generate insights for business decisions.\n",
    "\n",
    "## Load and Process Data\n",
    "\n",
    "```python\n",
    "import pandas as pd\n",
    "\n",
    "# Load data\n",
    "customers = pd.read_csv('../data/Customers.csv')\n",
    "purchase_history = pd.read_csv('../data/Purchase_History.csv')\n",
    "\n",
    "# Merge data\n",
    "merged_data = purchase_history.merge(customers, on='customer_id')\n",
    "merged_data.head()"
   ]
  },
  {
   "cell_type": "code",
   "execution_count": 1,
   "metadata": {},
   "outputs": [
    {
     "data": {
      "text/html": [
       "<div>\n",
       "<style scoped>\n",
       "    .dataframe tbody tr th:only-of-type {\n",
       "        vertical-align: middle;\n",
       "    }\n",
       "\n",
       "    .dataframe tbody tr th {\n",
       "        vertical-align: top;\n",
       "    }\n",
       "\n",
       "    .dataframe thead th {\n",
       "        text-align: right;\n",
       "    }\n",
       "</style>\n",
       "<table border=\"1\" class=\"dataframe\">\n",
       "  <thead>\n",
       "    <tr style=\"text-align: right;\">\n",
       "      <th></th>\n",
       "      <th>purchase_id</th>\n",
       "      <th>customer_id</th>\n",
       "      <th>product_id</th>\n",
       "      <th>purchase_date</th>\n",
       "      <th>quantity</th>\n",
       "      <th>total_amount</th>\n",
       "      <th>name</th>\n",
       "      <th>email</th>\n",
       "      <th>phone_number</th>\n",
       "      <th>address</th>\n",
       "      <th>city</th>\n",
       "      <th>country</th>\n",
       "      <th>registration_date</th>\n",
       "    </tr>\n",
       "  </thead>\n",
       "  <tbody>\n",
       "    <tr>\n",
       "      <th>0</th>\n",
       "      <td>10351</td>\n",
       "      <td>7107</td>\n",
       "      <td>1945</td>\n",
       "      <td>2024-03-24</td>\n",
       "      <td>9</td>\n",
       "      <td>650.61</td>\n",
       "      <td>Brittany Kennedy</td>\n",
       "      <td>christianhenderson@example.org</td>\n",
       "      <td>428-397-9067x08241</td>\n",
       "      <td>1398 Cooper Rapid\\nEast Kenneth, VI 89511</td>\n",
       "      <td>West Cynthiafort</td>\n",
       "      <td>Latvia</td>\n",
       "      <td>2020-07-20</td>\n",
       "    </tr>\n",
       "    <tr>\n",
       "      <th>1</th>\n",
       "      <td>7773</td>\n",
       "      <td>303</td>\n",
       "      <td>1646</td>\n",
       "      <td>2024-03-13</td>\n",
       "      <td>1</td>\n",
       "      <td>65.07</td>\n",
       "      <td>Cynthia Lin</td>\n",
       "      <td>hbernard@example.org</td>\n",
       "      <td>985-394-2054x204</td>\n",
       "      <td>27152 Gilmore Shores Suite 370\\nElliston, VT 8...</td>\n",
       "      <td>Waltersside</td>\n",
       "      <td>Aruba</td>\n",
       "      <td>2023-04-29</td>\n",
       "    </tr>\n",
       "    <tr>\n",
       "      <th>2</th>\n",
       "      <td>10697</td>\n",
       "      <td>6986</td>\n",
       "      <td>723</td>\n",
       "      <td>2024-05-02</td>\n",
       "      <td>8</td>\n",
       "      <td>387.60</td>\n",
       "      <td>Susan Smith</td>\n",
       "      <td>ulee@example.com</td>\n",
       "      <td>5948336951</td>\n",
       "      <td>65796 Sierra Plains Suite 157\\nAmandafurt, WA ...</td>\n",
       "      <td>West Rachelside</td>\n",
       "      <td>Canada</td>\n",
       "      <td>2023-10-25</td>\n",
       "    </tr>\n",
       "    <tr>\n",
       "      <th>3</th>\n",
       "      <td>11887</td>\n",
       "      <td>3924</td>\n",
       "      <td>402</td>\n",
       "      <td>2024-02-15</td>\n",
       "      <td>1</td>\n",
       "      <td>22.31</td>\n",
       "      <td>Mr. Mark Payne MD</td>\n",
       "      <td>pgillespie@example.com</td>\n",
       "      <td>001-456-698-0379</td>\n",
       "      <td>15566 Smith Parkways\\nNew Traci, MT 88326</td>\n",
       "      <td>West Kristinefurt</td>\n",
       "      <td>Cook Islands</td>\n",
       "      <td>2023-02-17</td>\n",
       "    </tr>\n",
       "    <tr>\n",
       "      <th>4</th>\n",
       "      <td>15123</td>\n",
       "      <td>8046</td>\n",
       "      <td>1436</td>\n",
       "      <td>2024-05-14</td>\n",
       "      <td>7</td>\n",
       "      <td>454.58</td>\n",
       "      <td>James Bonilla</td>\n",
       "      <td>duartebrandon@example.com</td>\n",
       "      <td>+1-599-295-2547x848</td>\n",
       "      <td>4526 Brown Plaza Apt. 254\\nPattersonbury, TX 7...</td>\n",
       "      <td>Wileyshire</td>\n",
       "      <td>Mauritania</td>\n",
       "      <td>2021-02-12</td>\n",
       "    </tr>\n",
       "  </tbody>\n",
       "</table>\n",
       "</div>"
      ],
      "text/plain": [
       "   purchase_id  customer_id  product_id purchase_date  quantity  total_amount  \\\n",
       "0        10351         7107        1945    2024-03-24         9        650.61   \n",
       "1         7773          303        1646    2024-03-13         1         65.07   \n",
       "2        10697         6986         723    2024-05-02         8        387.60   \n",
       "3        11887         3924         402    2024-02-15         1         22.31   \n",
       "4        15123         8046        1436    2024-05-14         7        454.58   \n",
       "\n",
       "                name                           email         phone_number  \\\n",
       "0   Brittany Kennedy  christianhenderson@example.org   428-397-9067x08241   \n",
       "1        Cynthia Lin            hbernard@example.org     985-394-2054x204   \n",
       "2        Susan Smith                ulee@example.com           5948336951   \n",
       "3  Mr. Mark Payne MD          pgillespie@example.com     001-456-698-0379   \n",
       "4      James Bonilla       duartebrandon@example.com  +1-599-295-2547x848   \n",
       "\n",
       "                                             address               city  \\\n",
       "0          1398 Cooper Rapid\\nEast Kenneth, VI 89511   West Cynthiafort   \n",
       "1  27152 Gilmore Shores Suite 370\\nElliston, VT 8...        Waltersside   \n",
       "2  65796 Sierra Plains Suite 157\\nAmandafurt, WA ...    West Rachelside   \n",
       "3          15566 Smith Parkways\\nNew Traci, MT 88326  West Kristinefurt   \n",
       "4  4526 Brown Plaza Apt. 254\\nPattersonbury, TX 7...         Wileyshire   \n",
       "\n",
       "        country registration_date  \n",
       "0        Latvia        2020-07-20  \n",
       "1         Aruba        2023-04-29  \n",
       "2        Canada        2023-10-25  \n",
       "3  Cook Islands        2023-02-17  \n",
       "4    Mauritania        2021-02-12  "
      ]
     },
     "execution_count": 1,
     "metadata": {},
     "output_type": "execute_result"
    }
   ],
   "source": [
    "import pandas as pd\n",
    "\n",
    "# Load data\n",
    "customers = pd.read_csv('../data/Customers.csv')\n",
    "purchase_history = pd.read_csv('../data/Purchase_History.csv')\n",
    "\n",
    "# Merge data\n",
    "merged_data = purchase_history.merge(customers, on='customer_id')\n",
    "merged_data.head()"
   ]
  },
  {
   "cell_type": "markdown",
   "metadata": {},
   "source": [
    "## Top Customers"
   ]
  },
  {
   "cell_type": "code",
   "execution_count": 2,
   "metadata": {},
   "outputs": [
    {
     "name": "stdout",
     "output_type": "stream",
     "text": [
      "      customer_id  total_amount\n",
      "173           406       3486.63\n",
      "3665         8455       3269.22\n",
      "857          2057       3161.76\n",
      "1127         2644       3159.36\n",
      "3452         7978       3140.01\n",
      "4181         9660       2989.48\n",
      "250           558       2971.24\n",
      "439          1049       2967.59\n",
      "3580         8266       2927.27\n",
      "829          1984       2919.90\n"
     ]
    }
   ],
   "source": [
    "# Aggregate total amount spent by each customer\n",
    "top_customers = merged_data.groupby('customer_id')['total_amount'].sum().reset_index()\n",
    "top_customers = top_customers.nlargest(10, 'total_amount')\n",
    "print(top_customers)"
   ]
  },
  {
   "cell_type": "markdown",
   "metadata": {},
   "source": [
    "## Popular Products"
   ]
  },
  {
   "cell_type": "code",
   "execution_count": 3,
   "metadata": {},
   "outputs": [
    {
     "name": "stdout",
     "output_type": "stream",
     "text": [
      "     product_id  quantity\n",
      "78          165       125\n",
      "914        1837       121\n",
      "889        1792       118\n",
      "328         649       117\n",
      "541        1085       116\n",
      "224         465       115\n",
      "346         680       113\n",
      "612        1229       110\n",
      "485         985       108\n",
      "837        1692       108\n"
     ]
    }
   ],
   "source": [
    "# Aggregate quantity sold for each product\n",
    "popular_products = purchase_history.groupby('product_id')['quantity'].sum().reset_index()\n",
    "popular_products = popular_products.nlargest(10, 'quantity')\n",
    "print(popular_products)"
   ]
  }
 ],
 "metadata": {
  "kernelspec": {
   "display_name": "venv",
   "language": "python",
   "name": "python3"
  },
  "language_info": {
   "codemirror_mode": {
    "name": "ipython",
    "version": 3
   },
   "file_extension": ".py",
   "mimetype": "text/x-python",
   "name": "python",
   "nbconvert_exporter": "python",
   "pygments_lexer": "ipython3",
   "version": "3.12.3"
  }
 },
 "nbformat": 4,
 "nbformat_minor": 2
}
